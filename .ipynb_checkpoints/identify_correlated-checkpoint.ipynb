{
 "cells": [
  {
   "cell_type": "code",
   "execution_count": null,
   "metadata": {},
   "outputs": [],
   "source": [
    "def identify_correlated(df, threshold):\n",
    "    \n",
    "    # A function to identify highly correlated features.\n",
    "    \n",
    "    # Compute correlation matrix with absolute values\n",
    "    matrix = df.corr().abs()\n",
    "    \n",
    "    # Create a boolean mask\n",
    "    # Recall that using a Boolean array as a mask allows the selection of particular subsets of the data themselves\n",
    "    # Ref: https://jakevdp.github.io/PythonDataScienceHandbook/02.06-boolean-arrays-and-masks.html\n",
    "    \n",
    "    mask = np.triu(np.ones_like(matrix, dtype=bool))\n",
    "    # The np.ones_like() function creates a 2D array with the same shape as the correlation matrix filled w/True values.\n",
    "\n",
    "    # This is then passed to the np.triu() function to convert it to a boolean mask, which will be passed to the\n",
    "    # heatmap's mask argument.\n",
    "\n",
    "    # The numpy triu() function returns a copy of an array with the elements below the k-th diagonal zeroed.\n",
    "    \n",
    "    # Subset the matrix\n",
    "    reduced_matrix = matrix.mask(mask)\n",
    "    \n",
    "    # Find columns that meet the threshold, using a list comprehension approach\n",
    "    to_drop = [c for c in reduced_matrix.columns if any(reduced_matrix[c] > threshold)]\n",
    "    \n",
    "    return to_drop"
   ]
  }
 ],
 "metadata": {
  "kernelspec": {
   "display_name": "Python 3",
   "language": "python",
   "name": "python3"
  },
  "language_info": {
   "codemirror_mode": {
    "name": "ipython",
    "version": 3
   },
   "file_extension": ".py",
   "mimetype": "text/x-python",
   "name": "python",
   "nbconvert_exporter": "python",
   "pygments_lexer": "ipython3",
   "version": "3.8.5"
  }
 },
 "nbformat": 4,
 "nbformat_minor": 4
}
